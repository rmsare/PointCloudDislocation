{
 "cells": [
  {
   "cell_type": "code",
   "execution_count": null,
   "metadata": {},
   "outputs": [],
   "source": [
    "from pc_deform import deform_point_cloud_dislocation\n",
    "\n",
    "input_filename = 'HSLSurvey101319_utm_decimated.las'\n",
    "output_filename = 'HSLSurvey101319_utm_decimated_deformed_default.las'\n",
    "\n",
    "deform_point_cloud_dislocation(input_filename, output_filename, slip_ss = -150.0, depth = 1.0, strike = 100.0)"
   ]
  }
 ],
 "metadata": {
  "kernelspec": {
   "display_name": "Python 3",
   "language": "python",
   "name": "python3"
  },
  "language_info": {
   "codemirror_mode": {
    "name": "ipython",
    "version": 3
   },
   "file_extension": ".py",
   "mimetype": "text/x-python",
   "name": "python",
   "nbconvert_exporter": "python",
   "pygments_lexer": "ipython3",
   "version": "3.6.9"
  }
 },
 "nbformat": 4,
 "nbformat_minor": 4
}
