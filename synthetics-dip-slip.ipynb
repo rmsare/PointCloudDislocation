{
 "cells": [
  {
   "cell_type": "code",
   "execution_count": 1,
   "metadata": {},
   "outputs": [],
   "source": [
    "import warnings\n",
    "warnings.filterwarnings('ignore')"
   ]
  },
  {
   "cell_type": "code",
   "execution_count": 2,
   "metadata": {},
   "outputs": [],
   "source": [
    "import numpy as np"
   ]
  },
  {
   "cell_type": "code",
   "execution_count": 3,
   "metadata": {},
   "outputs": [],
   "source": [
    "from pc_deform import deform_point_cloud_dislocation as deform_v1\n",
    "from disloc import deform_point_cloud_dislocation as deform_v2"
   ]
  },
  {
   "cell_type": "code",
   "execution_count": 4,
   "metadata": {},
   "outputs": [],
   "source": [
    "import matplotlib.pyplot as plt\n",
    "from plotting import initialize_plot_settings\n",
    "initialize_plot_settings()"
   ]
  },
  {
   "cell_type": "markdown",
   "metadata": {},
   "source": [
    "## HSL Data"
   ]
  },
  {
   "cell_type": "code",
   "execution_count": 5,
   "metadata": {},
   "outputs": [],
   "source": [
    "pre_data = np.loadtxt('data/HSLSurvey101319_utm_thin100.csv', skiprows=1, delimiter=',')\n",
    "post_data = np.loadtxt('data/HSLSurvey101419_utm_thin100.csv', skiprows=1, delimiter=',')"
   ]
  },
  {
   "cell_type": "code",
   "execution_count": 6,
   "metadata": {},
   "outputs": [
    {
     "name": "stdout",
     "output_type": "stream",
     "text": [
      "Pre-event dataset: 2196272 points\n",
      "Post-event dataset: 2030740 points\n"
     ]
    }
   ],
   "source": [
    "print(f'Pre-event dataset: {pre_data.shape[0]} points')\n",
    "print(f'Post-event dataset: {post_data.shape[0]} points')"
   ]
  },
  {
   "cell_type": "markdown",
   "metadata": {},
   "source": [
    "## Synthetic examples"
   ]
  },
  {
   "cell_type": "markdown",
   "metadata": {},
   "source": [
    "Synthetic examples use a vertical, N-S striking fault with dip slip.\n",
    "\n",
    "The dislocation model configurations are:\n",
    "\n",
    "| Parameter | Values |\n",
    "|-----------|--------|\n",
    "| Strike (deg)    | 0 (N-S) |\n",
    "| Dip (deg)       | 90 |\n",
    "| Depth (m)       | 0, 1, 5, 10 |\n",
    "| Dip slip (m)    | 0.5, 1, 2 |\n",
    "| Strike slip (m) | 0 |\n",
    "\n",
    "Two sets of synthetic examples are produced:\n",
    "\n",
    "- Same day. The point cloud from 10/13 is deformed.\n",
    "- Following day. The point cloud from 10/14 is deformed.\n",
    "\n",
    "These examples use unfiltered point clouds."
   ]
  },
  {
   "cell_type": "code",
   "execution_count": 7,
   "metadata": {},
   "outputs": [],
   "source": [
    "origin_x = np.mean(pre_data[:, 0])\n",
    "origin_y = np.mean(pre_data[:, 1])"
   ]
  },
  {
   "cell_type": "code",
   "execution_count": 8,
   "metadata": {},
   "outputs": [
    {
     "name": "stdout",
     "output_type": "stream",
     "text": [
      "Dislocation origin is 321660 m E, 4164942 m N\n"
     ]
    }
   ],
   "source": [
    "print(f'Dislocation origin is {origin_x:.0f} m E, {origin_y:.0f} m N')"
   ]
  },
  {
   "cell_type": "markdown",
   "metadata": {},
   "source": [
    "### 10/13 survey"
   ]
  },
  {
   "cell_type": "code",
   "execution_count": 9,
   "metadata": {},
   "outputs": [
    {
     "ename": "ModuleNotFoundError",
     "evalue": "No module named 'liblas'",
     "output_type": "error",
     "traceback": [
      "\u001b[0;31m---------------------------------------------------------------------------\u001b[0m",
      "\u001b[0;31mModuleNotFoundError\u001b[0m                       Traceback (most recent call last)",
      "\u001b[0;32m<ipython-input-9-658aee661af2>\u001b[0m in \u001b[0;36m<module>\u001b[0;34m\u001b[0m\n\u001b[1;32m     14\u001b[0m                                \u001b[0mslip_ds\u001b[0m\u001b[0;34m=\u001b[0m\u001b[0mslip_ds\u001b[0m\u001b[0;34m,\u001b[0m\u001b[0;34m\u001b[0m\u001b[0;34m\u001b[0m\u001b[0m\n\u001b[1;32m     15\u001b[0m                                \u001b[0morigin_x\u001b[0m\u001b[0;34m=\u001b[0m\u001b[0morigin_x\u001b[0m\u001b[0;34m,\u001b[0m\u001b[0;34m\u001b[0m\u001b[0;34m\u001b[0m\u001b[0m\n\u001b[0;32m---> 16\u001b[0;31m                                origin_y=origin_y)\n\u001b[0m",
      "\u001b[0;32m/media/rmsare/data/projects/PointCloudDislocation/pc_deform.py\u001b[0m in \u001b[0;36mdeform_point_cloud_dislocation\u001b[0;34m(input_filename, output_filename, **kwargs)\u001b[0m\n\u001b[1;32m     57\u001b[0m \u001b[0;32mdef\u001b[0m \u001b[0mdeform_point_cloud_dislocation\u001b[0m\u001b[0;34m(\u001b[0m\u001b[0minput_filename\u001b[0m\u001b[0;34m,\u001b[0m \u001b[0moutput_filename\u001b[0m\u001b[0;34m,\u001b[0m \u001b[0;34m**\u001b[0m\u001b[0mkwargs\u001b[0m\u001b[0;34m)\u001b[0m\u001b[0;34m:\u001b[0m\u001b[0;34m\u001b[0m\u001b[0;34m\u001b[0m\u001b[0m\n\u001b[1;32m     58\u001b[0m \u001b[0;34m\u001b[0m\u001b[0m\n\u001b[0;32m---> 59\u001b[0;31m     \u001b[0;32mfrom\u001b[0m \u001b[0mliblas\u001b[0m\u001b[0;34m.\u001b[0m\u001b[0mfile\u001b[0m \u001b[0;32mimport\u001b[0m \u001b[0mFile\u001b[0m\u001b[0;34m\u001b[0m\u001b[0;34m\u001b[0m\u001b[0m\n\u001b[0m\u001b[1;32m     60\u001b[0m     \u001b[0;32mfrom\u001b[0m \u001b[0mcopy\u001b[0m \u001b[0;32mimport\u001b[0m \u001b[0mdeepcopy\u001b[0m\u001b[0;34m\u001b[0m\u001b[0;34m\u001b[0m\u001b[0m\n\u001b[1;32m     61\u001b[0m \u001b[0;34m\u001b[0m\u001b[0m\n",
      "\u001b[0;31mModuleNotFoundError\u001b[0m: No module named 'liblas'"
     ]
    }
   ],
   "source": [
    "dip = 89.999\n",
    "strike = 0\n",
    "depth = 0.1\n",
    "slip_ss = 0\n",
    "slip_ds = 2\n",
    "pre_filename = 'data/HSLSurvey101319_utm_thinned100.las'\n",
    "post_filename = f'output/full/hsl_101319_s{strike:.0f}_d{dip:.0f}_dep{depth:.0f}_ss{slip_ss:.0f}_ds{slip_ds:.0f}_TEST1.las'\n",
    "deform_v1(pre_filename,\n",
    "                               post_filename,\n",
    "                               dip=dip,\n",
    "                               strike=strike,\n",
    "                               depth=depth,\n",
    "                               slip_ss=slip_ss,\n",
    "                               slip_ds=slip_ds,\n",
    "                               origin_x=origin_x,\n",
    "                               origin_y=origin_y)"
   ]
  },
  {
   "cell_type": "code",
   "execution_count": null,
   "metadata": {},
   "outputs": [],
   "source": [
    "pre_data = np.loadtxt(pre_filename.replace('.las', '.csv'), skiprows=1, delimiter=',')\n",
    "post_data = np.loadtxt(post_filename.replace('.las', '.csv'), skiprows=1, delimiter=',')"
   ]
  },
  {
   "cell_type": "code",
   "execution_count": null,
   "metadata": {},
   "outputs": [],
   "source": [
    "x = post_data[::100, 0]\n",
    "y = post_data[::100, 1]\n",
    "dz = pre_data[::100, 2] - post_data[::100, 2]\n",
    "c = plt.scatter(x, y, c=dz, cmap='RdBu_r')\n",
    "plt.colorbar(c, label='Displacement $\\Delta z$ [m]')"
   ]
  },
  {
   "cell_type": "code",
   "execution_count": null,
   "metadata": {},
   "outputs": [],
   "source": [
    "x = pre_data[::100, 0]\n",
    "y = pre_data[::100, 1]\n",
    "z = pre_data[::100, 2]\n",
    "c = plt.scatter(x, y, c=z, cmap='terrain')\n",
    "plt.colorbar(c, label='Elevation [m]')\n",
    "plt.title('Original')"
   ]
  },
  {
   "cell_type": "code",
   "execution_count": null,
   "metadata": {},
   "outputs": [],
   "source": [
    "x = post_data[::100, 0]\n",
    "y = post_data[::100, 1]\n",
    "z = post_data[::100, 2]\n",
    "c = plt.scatter(x, y, c=z, cmap='terrain')\n",
    "plt.colorbar(c, label='Elevation [m]')\n",
    "plt.title('Deformed (V1)')"
   ]
  },
  {
   "cell_type": "code",
   "execution_count": null,
   "metadata": {},
   "outputs": [],
   "source": [
    "dip = 89.999\n",
    "strike = 0\n",
    "depth = 0.1\n",
    "slip_ss = 0\n",
    "slip_ds = 2\n",
    "pre_filename = 'data/HSLSurvey101319_utm_thin100.las'\n",
    "post_filename = f'output/full/hsl_101319_s{strike:.0f}_d{dip:.0f}_dep{depth:.0f}_ss{slip_ss:.0f}_ds{slip_ds:.0f}_TEST1.las'\n",
    "deform_v1(pre_filename,\n",
    "                               post_filename,\n",
    "                               dip=dip,\n",
    "                               strike=strike,\n",
    "                               depth=depth,\n",
    "                               slip_ss=slip_ss,\n",
    "                               slip_ds=slip_ds,\n",
    "                               origin_x=origin_x,\n",
    "                               origin_y=origin_y)"
   ]
  },
  {
   "cell_type": "code",
   "execution_count": null,
   "metadata": {},
   "outputs": [],
   "source": [
    "pre_data = np.loadtxt(pre_filename.replace('.las', '.csv'), skiprows=1, delimiter=',')\n",
    "post_data = np.loadtxt(post_filename.replace('.las', '.csv'), skiprows=1, delimiter=',')"
   ]
  },
  {
   "cell_type": "code",
   "execution_count": null,
   "metadata": {},
   "outputs": [],
   "source": [
    "x = post_data[::100, 0]\n",
    "y = post_data[::100, 1]\n",
    "dz = pre_data[::100, 2] - post_data[::100, 2]\n",
    "c = plt.scatter(x, y, c=dz, cmap='RdBu_r')\n",
    "plt.colorbar(c, label='Displacement $\\Delta z$ [m]')"
   ]
  },
  {
   "cell_type": "code",
   "execution_count": null,
   "metadata": {},
   "outputs": [],
   "source": [
    "x = pre_data[::100, 0]\n",
    "y = pre_data[::100, 1]\n",
    "z = pre_data[::100, 2]\n",
    "c = plt.scatter(x, y, c=z, cmap='terrain')\n",
    "plt.colorbar(c, label='Elevation [m]')\n",
    "plt.title('Original')"
   ]
  },
  {
   "cell_type": "code",
   "execution_count": null,
   "metadata": {},
   "outputs": [],
   "source": [
    "x = post_data[::100, 0]\n",
    "y = post_data[::100, 1]\n",
    "z = post_data[::100, 2]\n",
    "c = plt.scatter(x, y, c=z, cmap='terrain')\n",
    "plt.colorbar(c, label='Elevation [m]')\n",
    "plt.title('Deformed (V1)')"
   ]
  },
  {
   "cell_type": "markdown",
   "metadata": {},
   "source": [
    "### 10/14 survey"
   ]
  },
  {
   "cell_type": "markdown",
   "metadata": {},
   "source": [
    "dip, strike, slip_ss = (90, 0, 0)\n",
    "depths = [0, 1, 5, 10]\n",
    "dip_slips = [0.5, 1, 2]\n",
    "for depth in depths:\n",
    "    for slip_ds in dip_slips:\n",
    "        pre_filename = 'data/HSLSurvey101419_utm.las'\n",
    "        post_filename = f'output/full/hsl_101419_s{strike:.0f}_d{dip:.0f}_dep{depth:.0f}_ss{slip_ss:.0f}_ds{slip_ds:.0f}.las'\n",
    "        deform_point_cloud_dislocation(pre_filename,\n",
    "                                       post_filename,\n",
    "                                       dip=dip,\n",
    "                                       strike=strike,\n",
    "                                       depth=depth,\n",
    "                                       slip_ss=slip_ss,\n",
    "                                       slip_ds=slip_ds,\n",
    "                                       origin_x=origin_x,\n",
    "                                       origin_y=origin_y)"
   ]
  },
  {
   "cell_type": "markdown",
   "metadata": {},
   "source": [
    "pre_data = read_las(pre_filename)\n",
    "post_data = read_las(post_filename)"
   ]
  },
  {
   "cell_type": "markdown",
   "metadata": {},
   "source": [
    "x = post_data[::100, 0]\n",
    "y = post_data[::100, 1]\n",
    "dz = pre_data[::100, 2] - post_data[::100, 2]\n",
    "c = plt.scatter(x, y, c=dz, cmap='RdBu_r')\n",
    "plt.colorbar(c, label='Displacement $\\Delta z$ [m]')"
   ]
  },
  {
   "cell_type": "markdown",
   "metadata": {},
   "source": [
    "### Lidar data"
   ]
  },
  {
   "cell_type": "markdown",
   "metadata": {},
   "source": [
    "dip, strike, slip_ss = (90, 0, 0)\n",
    "depths = [0, 1, 5, 10]\n",
    "dip_slips = [0.5, 1, 2]\n",
    "for depth in depths:\n",
    "    for slip_ds in dip_slips:\n",
    "        pre_filename = 'data/hsl_lidar_unfiltered.las'\n",
    "        post_filename = f'output/full/hsl_lidar_s{strike:.0f}_d{dip:.0f}_dep{depth:.0f}_ss{slip_ss:.0f}_ds{slip_ds:.0f}.las'\n",
    "        deform_point_cloud_dislocation(pre_filename,\n",
    "                                       post_filename,\n",
    "                                       dip=dip,\n",
    "                                       strike=strike,\n",
    "                                       depth=depth,\n",
    "                                       slip_ss=slip_ss,\n",
    "                                       slip_ds=slip_ds,\n",
    "                                       origin_x=origin_x,\n",
    "                                       origin_y=origin_y)"
   ]
  },
  {
   "cell_type": "markdown",
   "metadata": {},
   "source": [
    "dip, strike, slip_ss = (90, 0, 0)\n",
    "depths = [0, 1, 5, 10]\n",
    "dip_slips = [0.5, 1, 2]\n",
    "for depth in depths:\n",
    "    for slip_ds in dip_slips:\n",
    "        pre_filename = 'data/hsl_lidar_ground.las'\n",
    "        post_filename = f'output/full/hsl_lidar_s{strike:.0f}_d{dip:.0f}_dep{depth:.0f}_ss{slip_ss:.0f}_ds{slip_ds:.0f}.las'\n",
    "        deform_point_cloud_dislocation(pre_filename,\n",
    "                                       post_filename,\n",
    "                                       dip=dip,\n",
    "                                       strike=strike,\n",
    "                                       depth=depth,\n",
    "                                       slip_ss=slip_ss,\n",
    "                                       slip_ds=slip_ds,\n",
    "                                       origin_x=origin_x,\n",
    "                                       origin_y=origin_y)"
   ]
  }
 ],
 "metadata": {
  "kernelspec": {
   "display_name": "Python 3",
   "language": "python",
   "name": "python3"
  },
  "language_info": {
   "codemirror_mode": {
    "name": "ipython",
    "version": 3
   },
   "file_extension": ".py",
   "mimetype": "text/x-python",
   "name": "python",
   "nbconvert_exporter": "python",
   "pygments_lexer": "ipython3",
   "version": "3.6.7"
  }
 },
 "nbformat": 4,
 "nbformat_minor": 4
}
